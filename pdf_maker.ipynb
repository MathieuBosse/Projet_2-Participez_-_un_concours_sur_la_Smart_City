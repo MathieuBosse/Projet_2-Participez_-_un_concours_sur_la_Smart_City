{
 "cells": [
  {
   "cell_type": "code",
   "execution_count": null,
   "metadata": {},
   "outputs": [],
   "source": [
    "from nbconvert import PDFExporter\n",
    "import nbformat\n",
    "\n",
    "notebook_path = \"C:\\Users\\Mathieu Bosse\\Documents\\OpenClassRooms\\oc_projet_2\\Projet_2_OCR\\Projet_2_livrable_final copy.ipynb\"\n",
    "pdf_path = \"C:\\Users\\Mathieu Bosse\\Documents\\OpenClassRooms\\oc_projet_2\\Projet_2_OCR\\Projet_2_livrable_final copy.pdf\"\n",
    "\n",
    "# Charger le notebook\n",
    "with open(notebook_path, \"r\", encoding=\"utf-8\") as nb_file:\n",
    "    notebook = nbformat.read(nb_file, as_version=4)\n",
    "\n",
    "# Exporter en PDF\n",
    "pdf_exporter = PDFExporter()\n",
    "pdf_exporter.from_notebook_node(notebook)\n",
    "pdf_data, resources = pdf_exporter.from_notebook_node(notebook)\n",
    "\n",
    "# Écrire le PDF dans un fichier\n",
    "with open(pdf_path, \"wb\") as pdf_file:\n",
    "    pdf_file.write(pdf_data)    "
   ]
  }
 ],
 "metadata": {
  "kernelspec": {
   "display_name": "Python 3",
   "language": "python",
   "name": "python3"
  },
  "language_info": {
   "name": "python",
   "version": "3.12.0"
  }
 },
 "nbformat": 4,
 "nbformat_minor": 2
}
